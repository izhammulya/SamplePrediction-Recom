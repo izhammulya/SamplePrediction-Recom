{
 "cells": [
  {
   "cell_type": "markdown",
   "metadata": {},
   "source": [
    "# Read Data & Data Understanding "
   ]
  },
  {
   "cell_type": "code",
   "execution_count": 1,
   "metadata": {},
   "outputs": [],
   "source": [
    "import pandas as pd\n",
    "import numpy as np\n",
    "import matplotlib.pyplot as plt\n",
    "import seaborn as sns"
   ]
  },
  {
   "cell_type": "code",
   "execution_count": 2,
   "metadata": {},
   "outputs": [],
   "source": [
    "##Read Data\n",
    "data_customer_int = pd.read_excel('datasetfix.xlsx','customer_interaction')\n",
    "data_prod_details = pd.read_excel('datasetfix.xlsx','product_details')\n",
    "data_purchase = pd.read_excel('datasetfix.xlsx','purchase_history')"
   ]
  },
  {
   "cell_type": "code",
   "execution_count": 3,
   "metadata": {},
   "outputs": [
    {
     "data": {
      "text/html": [
       "<div>\n",
       "<style scoped>\n",
       "    .dataframe tbody tr th:only-of-type {\n",
       "        vertical-align: middle;\n",
       "    }\n",
       "\n",
       "    .dataframe tbody tr th {\n",
       "        vertical-align: top;\n",
       "    }\n",
       "\n",
       "    .dataframe thead th {\n",
       "        text-align: right;\n",
       "    }\n",
       "</style>\n",
       "<table border=\"1\" class=\"dataframe\">\n",
       "  <thead>\n",
       "    <tr style=\"text-align: right;\">\n",
       "      <th></th>\n",
       "      <th>customer_id</th>\n",
       "      <th>page_views</th>\n",
       "      <th>time_spent</th>\n",
       "    </tr>\n",
       "  </thead>\n",
       "  <tbody>\n",
       "    <tr>\n",
       "      <th>count</th>\n",
       "      <td>30.000000</td>\n",
       "      <td>30.000000</td>\n",
       "      <td>30.000000</td>\n",
       "    </tr>\n",
       "    <tr>\n",
       "      <th>mean</th>\n",
       "      <td>15.500000</td>\n",
       "      <td>25.000000</td>\n",
       "      <td>207.200000</td>\n",
       "    </tr>\n",
       "    <tr>\n",
       "      <th>std</th>\n",
       "      <td>8.803408</td>\n",
       "      <td>12.632743</td>\n",
       "      <td>90.044587</td>\n",
       "    </tr>\n",
       "    <tr>\n",
       "      <th>min</th>\n",
       "      <td>1.000000</td>\n",
       "      <td>3.000000</td>\n",
       "      <td>42.000000</td>\n",
       "    </tr>\n",
       "    <tr>\n",
       "      <th>25%</th>\n",
       "      <td>8.250000</td>\n",
       "      <td>17.250000</td>\n",
       "      <td>144.000000</td>\n",
       "    </tr>\n",
       "    <tr>\n",
       "      <th>50%</th>\n",
       "      <td>15.500000</td>\n",
       "      <td>26.500000</td>\n",
       "      <td>210.000000</td>\n",
       "    </tr>\n",
       "    <tr>\n",
       "      <th>75%</th>\n",
       "      <td>22.750000</td>\n",
       "      <td>34.250000</td>\n",
       "      <td>262.500000</td>\n",
       "    </tr>\n",
       "    <tr>\n",
       "      <th>max</th>\n",
       "      <td>30.000000</td>\n",
       "      <td>43.000000</td>\n",
       "      <td>360.000000</td>\n",
       "    </tr>\n",
       "  </tbody>\n",
       "</table>\n",
       "</div>"
      ],
      "text/plain": [
       "       customer_id  page_views  time_spent\n",
       "count    30.000000   30.000000   30.000000\n",
       "mean     15.500000   25.000000  207.200000\n",
       "std       8.803408   12.632743   90.044587\n",
       "min       1.000000    3.000000   42.000000\n",
       "25%       8.250000   17.250000  144.000000\n",
       "50%      15.500000   26.500000  210.000000\n",
       "75%      22.750000   34.250000  262.500000\n",
       "max      30.000000   43.000000  360.000000"
      ]
     },
     "execution_count": 3,
     "metadata": {},
     "output_type": "execute_result"
    }
   ],
   "source": [
    "data_customer_int.describe()"
   ]
  },
  {
   "cell_type": "code",
   "execution_count": 4,
   "metadata": {},
   "outputs": [
    {
     "data": {
      "text/html": [
       "<div>\n",
       "<style scoped>\n",
       "    .dataframe tbody tr th:only-of-type {\n",
       "        vertical-align: middle;\n",
       "    }\n",
       "\n",
       "    .dataframe tbody tr th {\n",
       "        vertical-align: top;\n",
       "    }\n",
       "\n",
       "    .dataframe thead th {\n",
       "        text-align: right;\n",
       "    }\n",
       "</style>\n",
       "<table border=\"1\" class=\"dataframe\">\n",
       "  <thead>\n",
       "    <tr style=\"text-align: right;\">\n",
       "      <th></th>\n",
       "      <th>product_id</th>\n",
       "      <th>price</th>\n",
       "      <th>ratings</th>\n",
       "    </tr>\n",
       "  </thead>\n",
       "  <tbody>\n",
       "    <tr>\n",
       "      <th>count</th>\n",
       "      <td>550.000000</td>\n",
       "      <td>550.000000</td>\n",
       "      <td>550.000000</td>\n",
       "    </tr>\n",
       "    <tr>\n",
       "      <th>mean</th>\n",
       "      <td>5516.572727</td>\n",
       "      <td>482.305455</td>\n",
       "      <td>3.987636</td>\n",
       "    </tr>\n",
       "    <tr>\n",
       "      <th>std</th>\n",
       "      <td>2557.800515</td>\n",
       "      <td>291.671930</td>\n",
       "      <td>0.589798</td>\n",
       "    </tr>\n",
       "    <tr>\n",
       "      <th>min</th>\n",
       "      <td>1023.000000</td>\n",
       "      <td>13.000000</td>\n",
       "      <td>3.000000</td>\n",
       "    </tr>\n",
       "    <tr>\n",
       "      <th>25%</th>\n",
       "      <td>3252.500000</td>\n",
       "      <td>221.000000</td>\n",
       "      <td>3.500000</td>\n",
       "    </tr>\n",
       "    <tr>\n",
       "      <th>50%</th>\n",
       "      <td>5491.000000</td>\n",
       "      <td>447.500000</td>\n",
       "      <td>4.000000</td>\n",
       "    </tr>\n",
       "    <tr>\n",
       "      <th>75%</th>\n",
       "      <td>7786.250000</td>\n",
       "      <td>755.250000</td>\n",
       "      <td>4.500000</td>\n",
       "    </tr>\n",
       "    <tr>\n",
       "      <th>max</th>\n",
       "      <td>9989.000000</td>\n",
       "      <td>993.000000</td>\n",
       "      <td>5.000000</td>\n",
       "    </tr>\n",
       "  </tbody>\n",
       "</table>\n",
       "</div>"
      ],
      "text/plain": [
       "        product_id       price     ratings\n",
       "count   550.000000  550.000000  550.000000\n",
       "mean   5516.572727  482.305455    3.987636\n",
       "std    2557.800515  291.671930    0.589798\n",
       "min    1023.000000   13.000000    3.000000\n",
       "25%    3252.500000  221.000000    3.500000\n",
       "50%    5491.000000  447.500000    4.000000\n",
       "75%    7786.250000  755.250000    4.500000\n",
       "max    9989.000000  993.000000    5.000000"
      ]
     },
     "execution_count": 4,
     "metadata": {},
     "output_type": "execute_result"
    }
   ],
   "source": [
    "data_prod_details.describe()"
   ]
  },
  {
   "cell_type": "code",
   "execution_count": 5,
   "metadata": {},
   "outputs": [
    {
     "data": {
      "text/html": [
       "<div>\n",
       "<style scoped>\n",
       "    .dataframe tbody tr th:only-of-type {\n",
       "        vertical-align: middle;\n",
       "    }\n",
       "\n",
       "    .dataframe tbody tr th {\n",
       "        vertical-align: top;\n",
       "    }\n",
       "\n",
       "    .dataframe thead th {\n",
       "        text-align: right;\n",
       "    }\n",
       "</style>\n",
       "<table border=\"1\" class=\"dataframe\">\n",
       "  <thead>\n",
       "    <tr style=\"text-align: right;\">\n",
       "      <th></th>\n",
       "      <th>customer_id</th>\n",
       "      <th>product_id</th>\n",
       "    </tr>\n",
       "  </thead>\n",
       "  <tbody>\n",
       "    <tr>\n",
       "      <th>count</th>\n",
       "      <td>1500.000000</td>\n",
       "      <td>1500.000000</td>\n",
       "    </tr>\n",
       "    <tr>\n",
       "      <th>mean</th>\n",
       "      <td>15.227333</td>\n",
       "      <td>5350.324000</td>\n",
       "    </tr>\n",
       "    <tr>\n",
       "      <th>std</th>\n",
       "      <td>8.637827</td>\n",
       "      <td>2553.744703</td>\n",
       "    </tr>\n",
       "    <tr>\n",
       "      <th>min</th>\n",
       "      <td>1.000000</td>\n",
       "      <td>1023.000000</td>\n",
       "    </tr>\n",
       "    <tr>\n",
       "      <th>25%</th>\n",
       "      <td>8.000000</td>\n",
       "      <td>3103.000000</td>\n",
       "    </tr>\n",
       "    <tr>\n",
       "      <th>50%</th>\n",
       "      <td>15.000000</td>\n",
       "      <td>5273.000000</td>\n",
       "    </tr>\n",
       "    <tr>\n",
       "      <th>75%</th>\n",
       "      <td>23.000000</td>\n",
       "      <td>7551.000000</td>\n",
       "    </tr>\n",
       "    <tr>\n",
       "      <th>max</th>\n",
       "      <td>30.000000</td>\n",
       "      <td>9989.000000</td>\n",
       "    </tr>\n",
       "  </tbody>\n",
       "</table>\n",
       "</div>"
      ],
      "text/plain": [
       "       customer_id   product_id\n",
       "count  1500.000000  1500.000000\n",
       "mean     15.227333  5350.324000\n",
       "std       8.637827  2553.744703\n",
       "min       1.000000  1023.000000\n",
       "25%       8.000000  3103.000000\n",
       "50%      15.000000  5273.000000\n",
       "75%      23.000000  7551.000000\n",
       "max      30.000000  9989.000000"
      ]
     },
     "execution_count": 5,
     "metadata": {},
     "output_type": "execute_result"
    }
   ],
   "source": [
    "data_purchase.describe()"
   ]
  },
  {
   "cell_type": "code",
   "execution_count": 6,
   "metadata": {},
   "outputs": [
    {
     "data": {
      "text/plain": [
       "(1500, 3)"
      ]
     },
     "execution_count": 6,
     "metadata": {},
     "output_type": "execute_result"
    }
   ],
   "source": [
    "#knowing the size of our dataset\n",
    "data_purchase.shape"
   ]
  },
  {
   "cell_type": "code",
   "execution_count": 7,
   "metadata": {},
   "outputs": [
    {
     "data": {
      "text/plain": [
       "(550, 4)"
      ]
     },
     "execution_count": 7,
     "metadata": {},
     "output_type": "execute_result"
    }
   ],
   "source": [
    "data_prod_details.shape"
   ]
  },
  {
   "cell_type": "code",
   "execution_count": 8,
   "metadata": {},
   "outputs": [
    {
     "data": {
      "text/plain": [
       "customer_id               int64\n",
       "product_id                int64\n",
       "purchase_date    datetime64[ns]\n",
       "dtype: object"
      ]
     },
     "execution_count": 8,
     "metadata": {},
     "output_type": "execute_result"
    }
   ],
   "source": [
    "#check type data\n",
    "data_purchase.dtypes"
   ]
  },
  {
   "cell_type": "code",
   "execution_count": 9,
   "metadata": {},
   "outputs": [
    {
     "data": {
      "text/plain": [
       "product_id      int64\n",
       "category       string\n",
       "price           int64\n",
       "ratings       float64\n",
       "dtype: object"
      ]
     },
     "execution_count": 9,
     "metadata": {},
     "output_type": "execute_result"
    }
   ],
   "source": [
    "data_prod_details['category'] = data_prod_details['category'].astype('string')\n",
    "data_prod_details.dtypes"
   ]
  },
  {
   "cell_type": "code",
   "execution_count": 10,
   "metadata": {},
   "outputs": [
    {
     "data": {
      "text/plain": [
       "customer_id    int64\n",
       "page_views     int64\n",
       "time_spent     int64\n",
       "dtype: object"
      ]
     },
     "execution_count": 10,
     "metadata": {},
     "output_type": "execute_result"
    }
   ],
   "source": [
    "data_customer_int.dtypes"
   ]
  },
  {
   "cell_type": "code",
   "execution_count": 11,
   "metadata": {},
   "outputs": [
    {
     "data": {
      "text/plain": [
       "0"
      ]
     },
     "execution_count": 11,
     "metadata": {},
     "output_type": "execute_result"
    }
   ],
   "source": [
    "#check duplicate of our data\n",
    "data_prod_details.duplicated().sum()"
   ]
  },
  {
   "cell_type": "code",
   "execution_count": 12,
   "metadata": {},
   "outputs": [],
   "source": [
    "#complete join data\n",
    "x = pd.merge(data_purchase,data_customer_int, left_on = 'customer_id', right_on ='customer_id', how = 'right')\n",
    "datalengkap = pd.merge(x,data_prod_details, left_on = 'product_id', right_on = 'product_id')"
   ]
  },
  {
   "cell_type": "code",
   "execution_count": 13,
   "metadata": {},
   "outputs": [],
   "source": [
    "datalengkap.to_excel('datagabungan.xlsx', index=False)"
   ]
  },
  {
   "cell_type": "code",
   "execution_count": 14,
   "metadata": {},
   "outputs": [
    {
     "data": {
      "text/html": [
       "<div>\n",
       "<style scoped>\n",
       "    .dataframe tbody tr th:only-of-type {\n",
       "        vertical-align: middle;\n",
       "    }\n",
       "\n",
       "    .dataframe tbody tr th {\n",
       "        vertical-align: top;\n",
       "    }\n",
       "\n",
       "    .dataframe thead th {\n",
       "        text-align: right;\n",
       "    }\n",
       "</style>\n",
       "<table border=\"1\" class=\"dataframe\">\n",
       "  <thead>\n",
       "    <tr style=\"text-align: right;\">\n",
       "      <th></th>\n",
       "      <th>customer_id</th>\n",
       "      <th>product_id</th>\n",
       "      <th>purchase_date</th>\n",
       "      <th>category</th>\n",
       "      <th>price</th>\n",
       "      <th>ratings</th>\n",
       "    </tr>\n",
       "  </thead>\n",
       "  <tbody>\n",
       "    <tr>\n",
       "      <th>908</th>\n",
       "      <td>1</td>\n",
       "      <td>1175</td>\n",
       "      <td>2024-01-12</td>\n",
       "      <td>Electronic</td>\n",
       "      <td>86</td>\n",
       "      <td>4.3</td>\n",
       "    </tr>\n",
       "    <tr>\n",
       "      <th>288</th>\n",
       "      <td>1</td>\n",
       "      <td>1366</td>\n",
       "      <td>2023-08-16</td>\n",
       "      <td>Electronic</td>\n",
       "      <td>897</td>\n",
       "      <td>4.1</td>\n",
       "    </tr>\n",
       "    <tr>\n",
       "      <th>924</th>\n",
       "      <td>1</td>\n",
       "      <td>1422</td>\n",
       "      <td>2024-01-14</td>\n",
       "      <td>Clothing</td>\n",
       "      <td>40</td>\n",
       "      <td>3.3</td>\n",
       "    </tr>\n",
       "    <tr>\n",
       "      <th>925</th>\n",
       "      <td>1</td>\n",
       "      <td>1422</td>\n",
       "      <td>2024-01-14</td>\n",
       "      <td>Electronic</td>\n",
       "      <td>814</td>\n",
       "      <td>3.2</td>\n",
       "    </tr>\n",
       "    <tr>\n",
       "      <th>747</th>\n",
       "      <td>1</td>\n",
       "      <td>1534</td>\n",
       "      <td>2023-07-12</td>\n",
       "      <td>Home &amp; Kitchen</td>\n",
       "      <td>963</td>\n",
       "      <td>4.2</td>\n",
       "    </tr>\n",
       "    <tr>\n",
       "      <th>841</th>\n",
       "      <td>1</td>\n",
       "      <td>1790</td>\n",
       "      <td>2023-05-07</td>\n",
       "      <td>Health</td>\n",
       "      <td>699</td>\n",
       "      <td>4.0</td>\n",
       "    </tr>\n",
       "    <tr>\n",
       "      <th>390</th>\n",
       "      <td>1</td>\n",
       "      <td>1809</td>\n",
       "      <td>2023-09-13</td>\n",
       "      <td>Clothing</td>\n",
       "      <td>562</td>\n",
       "      <td>3.3</td>\n",
       "    </tr>\n",
       "    <tr>\n",
       "      <th>1244</th>\n",
       "      <td>1</td>\n",
       "      <td>2232</td>\n",
       "      <td>2023-07-17</td>\n",
       "      <td>Beauty</td>\n",
       "      <td>189</td>\n",
       "      <td>3.4</td>\n",
       "    </tr>\n",
       "    <tr>\n",
       "      <th>704</th>\n",
       "      <td>1</td>\n",
       "      <td>2329</td>\n",
       "      <td>2023-11-07</td>\n",
       "      <td>Beauty</td>\n",
       "      <td>880</td>\n",
       "      <td>4.7</td>\n",
       "    </tr>\n",
       "    <tr>\n",
       "      <th>1520</th>\n",
       "      <td>1</td>\n",
       "      <td>2355</td>\n",
       "      <td>2023-04-22</td>\n",
       "      <td>Home &amp; Kitchen</td>\n",
       "      <td>635</td>\n",
       "      <td>3.4</td>\n",
       "    </tr>\n",
       "    <tr>\n",
       "      <th>746</th>\n",
       "      <td>1</td>\n",
       "      <td>2389</td>\n",
       "      <td>2023-10-16</td>\n",
       "      <td>Health</td>\n",
       "      <td>20</td>\n",
       "      <td>4.2</td>\n",
       "    </tr>\n",
       "    <tr>\n",
       "      <th>1311</th>\n",
       "      <td>1</td>\n",
       "      <td>2487</td>\n",
       "      <td>2023-11-01</td>\n",
       "      <td>Clothing</td>\n",
       "      <td>531</td>\n",
       "      <td>4.7</td>\n",
       "    </tr>\n",
       "    <tr>\n",
       "      <th>716</th>\n",
       "      <td>1</td>\n",
       "      <td>2845</td>\n",
       "      <td>2024-02-07</td>\n",
       "      <td>Health</td>\n",
       "      <td>641</td>\n",
       "      <td>3.4</td>\n",
       "    </tr>\n",
       "    <tr>\n",
       "      <th>1184</th>\n",
       "      <td>1</td>\n",
       "      <td>2896</td>\n",
       "      <td>2023-09-02</td>\n",
       "      <td>Electronic</td>\n",
       "      <td>335</td>\n",
       "      <td>3.0</td>\n",
       "    </tr>\n",
       "    <tr>\n",
       "      <th>1235</th>\n",
       "      <td>1</td>\n",
       "      <td>3041</td>\n",
       "      <td>2023-07-15</td>\n",
       "      <td>Clothing</td>\n",
       "      <td>267</td>\n",
       "      <td>4.3</td>\n",
       "    </tr>\n",
       "    <tr>\n",
       "      <th>1238</th>\n",
       "      <td>1</td>\n",
       "      <td>3133</td>\n",
       "      <td>2023-04-29</td>\n",
       "      <td>Clothing</td>\n",
       "      <td>837</td>\n",
       "      <td>4.3</td>\n",
       "    </tr>\n",
       "    <tr>\n",
       "      <th>26</th>\n",
       "      <td>1</td>\n",
       "      <td>3368</td>\n",
       "      <td>2024-01-23</td>\n",
       "      <td>Home &amp; Kitchen</td>\n",
       "      <td>881</td>\n",
       "      <td>3.0</td>\n",
       "    </tr>\n",
       "    <tr>\n",
       "      <th>847</th>\n",
       "      <td>1</td>\n",
       "      <td>3410</td>\n",
       "      <td>2024-01-30</td>\n",
       "      <td>Clothing</td>\n",
       "      <td>163</td>\n",
       "      <td>4.6</td>\n",
       "    </tr>\n",
       "    <tr>\n",
       "      <th>338</th>\n",
       "      <td>1</td>\n",
       "      <td>3522</td>\n",
       "      <td>2023-09-27</td>\n",
       "      <td>Home &amp; Kitchen</td>\n",
       "      <td>195</td>\n",
       "      <td>3.8</td>\n",
       "    </tr>\n",
       "    <tr>\n",
       "      <th>339</th>\n",
       "      <td>1</td>\n",
       "      <td>3522</td>\n",
       "      <td>2023-09-27</td>\n",
       "      <td>Home &amp; Kitchen</td>\n",
       "      <td>952</td>\n",
       "      <td>4.4</td>\n",
       "    </tr>\n",
       "  </tbody>\n",
       "</table>\n",
       "</div>"
      ],
      "text/plain": [
       "      customer_id  product_id purchase_date        category  price  ratings\n",
       "908             1        1175    2024-01-12      Electronic     86      4.3\n",
       "288             1        1366    2023-08-16      Electronic    897      4.1\n",
       "924             1        1422    2024-01-14        Clothing     40      3.3\n",
       "925             1        1422    2024-01-14      Electronic    814      3.2\n",
       "747             1        1534    2023-07-12  Home & Kitchen    963      4.2\n",
       "841             1        1790    2023-05-07          Health    699      4.0\n",
       "390             1        1809    2023-09-13        Clothing    562      3.3\n",
       "1244            1        2232    2023-07-17          Beauty    189      3.4\n",
       "704             1        2329    2023-11-07          Beauty    880      4.7\n",
       "1520            1        2355    2023-04-22  Home & Kitchen    635      3.4\n",
       "746             1        2389    2023-10-16          Health     20      4.2\n",
       "1311            1        2487    2023-11-01        Clothing    531      4.7\n",
       "716             1        2845    2024-02-07          Health    641      3.4\n",
       "1184            1        2896    2023-09-02      Electronic    335      3.0\n",
       "1235            1        3041    2023-07-15        Clothing    267      4.3\n",
       "1238            1        3133    2023-04-29        Clothing    837      4.3\n",
       "26              1        3368    2024-01-23  Home & Kitchen    881      3.0\n",
       "847             1        3410    2024-01-30        Clothing    163      4.6\n",
       "338             1        3522    2023-09-27  Home & Kitchen    195      3.8\n",
       "339             1        3522    2023-09-27  Home & Kitchen    952      4.4"
      ]
     },
     "execution_count": 14,
     "metadata": {},
     "output_type": "execute_result"
    }
   ],
   "source": [
    "#cek produk id\n",
    "data2nd = pd.merge(data_purchase,data_prod_details, left_on = 'product_id', right_on = 'product_id').sort_values(by=['customer_id','product_id'])\n",
    "data2nd.head(20)"
   ]
  },
  {
   "cell_type": "markdown",
   "metadata": {},
   "source": [
    "1. Ternyata 1 produk bisa memiliki lebih dari 1 kategori (lihat product id 1422)"
   ]
  },
  {
   "cell_type": "markdown",
   "metadata": {},
   "source": [
    "# Exploratory Data Analysis (EDA)"
   ]
  },
  {
   "cell_type": "code",
   "execution_count": 15,
   "metadata": {},
   "outputs": [
    {
     "data": {
      "image/png": "[encoded data removed]",
      "text/plain": [
       "<Figure size 720x576 with 1 Axes>"
      ]
     },
     "metadata": {
      "needs_background": "light"
     },
     "output_type": "display_data"
    }
   ],
   "source": [
    "dims = (10, 8)\n",
    "fig, ax = plt.subplots(figsize=dims)\n",
    "ax = sns.countplot(x = 'category',\n",
    "            data = data_prod_details)\n",
    "plt.xlabel(\"kategori\", size=12)\n",
    "plt.ylabel(\"jumlah produk\", size=12)\n",
    "plt.title(\"Top Category based on the number of product\", size=15)\n",
    "for container in ax.containers:\n",
    "    ax.bar_label(container)"
   ]
  },
  {
   "cell_type": "code",
   "execution_count": 16,
   "metadata": {},
   "outputs": [
    {
     "data": {
      "image/png": "[encoded data removed]",
      "text/plain": [
       "<Figure size 864x576 with 1 Axes>"
      ]
     },
     "metadata": {
      "needs_background": "light"
     },
     "output_type": "display_data"
    }
   ],
   "source": [
    "#Top category based on page views\n",
    "dims = (10, 8)\n",
    "datapage = pd.DataFrame(datalengkap.groupby('category')['page_views'].sum()).reset_index()\n",
    "fig, ax = plt.subplots(figsize=(12,8))\n",
    "plt.bar(datapage.category, datapage.page_views)\n",
    "plt.xlabel(\"kategori\", size=12)\n",
    "plt.ylabel(\"page_views\", size=12)\n",
    "plt.title(\"Top Category with the most page views\", size=15)\n",
    "for container in ax.containers:\n",
    "    ax.bar_label(container)"
   ]
  },
  {
   "cell_type": "code",
   "execution_count": 17,
   "metadata": {},
   "outputs": [
    {
     "data": {
      "image/png": "[encoded data removed]",
      "text/plain": [
       "<Figure size 720x576 with 1 Axes>"
      ]
     },
     "metadata": {
      "needs_background": "light"
     },
     "output_type": "display_data"
    }
   ],
   "source": [
    "#Persebaran Ratings product\n",
    "dims = (10, 8)\n",
    "fig, ax = plt.subplots(figsize=dims)\n",
    "ax = sns.countplot(x = 'ratings',\n",
    "            data = data_prod_details)\n",
    "for container in ax.containers:\n",
    "    ax.bar_label(container)"
   ]
  },
  {
   "cell_type": "code",
   "execution_count": 18,
   "metadata": {},
   "outputs": [
    {
     "data": {
      "image/png": "[encoded data removed]",
      "text/plain": [
       "<Figure size 864x576 with 1 Axes>"
      ]
     },
     "metadata": {
      "needs_background": "light"
     },
     "output_type": "display_data"
    }
   ],
   "source": [
    "#Top Category Product Sold\n",
    "datasold = pd.DataFrame(datalengkap.groupby('category')['product_id'].size()).reset_index()\n",
    "datasold\n",
    "fig, ax = plt.subplots(figsize=(12,8))\n",
    "plt.bar(datasold.category, datasold.product_id)\n",
    "plt.xlabel(\"kategori\", size=12)\n",
    "plt.ylabel(\"jumlah terjual\", size=12)\n",
    "plt.title(\"Top Category Product Sold\", size=15)\n",
    "for container in ax.containers:\n",
    "    ax.bar_label(container)\n",
    "plt.show()"
   ]
  },
  {
   "cell_type": "code",
   "execution_count": 19,
   "metadata": {},
   "outputs": [
    {
     "data": {
      "image/png": "[encoded data removed]",
      "text/plain": [
       "<Figure size 1080x720 with 2 Axes>"
      ]
     },
     "metadata": {
      "needs_background": "light"
     },
     "output_type": "display_data"
    }
   ],
   "source": [
    "plt.figure(figsize=(15,10))\n",
    "sns.heatmap(datalengkap.corr(),linewidth=.01,annot=True,cmap=\"winter\")\n",
    "plt.show()\n",
    "#data kurang menarik"
   ]
  },
  {
   "cell_type": "markdown",
   "metadata": {},
   "source": [
    "There is no interesting remarks for correlation among the variables since the correlation value is relatively low."
   ]
  },
  {
   "cell_type": "code",
   "execution_count": 20,
   "metadata": {},
   "outputs": [
    {
     "data": {
      "text/html": [
       "<div>\n",
       "<style scoped>\n",
       "    .dataframe tbody tr th:only-of-type {\n",
       "        vertical-align: middle;\n",
       "    }\n",
       "\n",
       "    .dataframe tbody tr th {\n",
       "        vertical-align: top;\n",
       "    }\n",
       "\n",
       "    .dataframe thead th {\n",
       "        text-align: right;\n",
       "    }\n",
       "</style>\n",
       "<table border=\"1\" class=\"dataframe\">\n",
       "  <thead>\n",
       "    <tr style=\"text-align: right;\">\n",
       "      <th></th>\n",
       "      <th>customer_id</th>\n",
       "      <th>product_id</th>\n",
       "      <th>ratings</th>\n",
       "    </tr>\n",
       "  </thead>\n",
       "  <tbody>\n",
       "    <tr>\n",
       "      <th>0</th>\n",
       "      <td>1</td>\n",
       "      <td>4681</td>\n",
       "      <td>4.7</td>\n",
       "    </tr>\n",
       "    <tr>\n",
       "      <th>1</th>\n",
       "      <td>29</td>\n",
       "      <td>4681</td>\n",
       "      <td>4.7</td>\n",
       "    </tr>\n",
       "    <tr>\n",
       "      <th>2</th>\n",
       "      <td>1</td>\n",
       "      <td>3781</td>\n",
       "      <td>4.2</td>\n",
       "    </tr>\n",
       "    <tr>\n",
       "      <th>3</th>\n",
       "      <td>9</td>\n",
       "      <td>3781</td>\n",
       "      <td>4.2</td>\n",
       "    </tr>\n",
       "    <tr>\n",
       "      <th>4</th>\n",
       "      <td>19</td>\n",
       "      <td>3781</td>\n",
       "      <td>4.2</td>\n",
       "    </tr>\n",
       "  </tbody>\n",
       "</table>\n",
       "</div>"
      ],
      "text/plain": [
       "   customer_id  product_id  ratings\n",
       "0            1        4681      4.7\n",
       "1           29        4681      4.7\n",
       "2            1        3781      4.2\n",
       "3            9        3781      4.2\n",
       "4           19        3781      4.2"
      ]
     },
     "execution_count": 20,
     "metadata": {},
     "output_type": "execute_result"
    }
   ],
   "source": [
    "#data eksplisit for recommendation system\n",
    "dataset = datalengkap[['customer_id','product_id','ratings']]\n",
    "dataset.head()"
   ]
  },
  {
   "cell_type": "code",
   "execution_count": 21,
   "metadata": {},
   "outputs": [
    {
     "data": {
      "text/plain": [
       "79"
      ]
     },
     "execution_count": 21,
     "metadata": {},
     "output_type": "execute_result"
    }
   ],
   "source": [
    "#cek duplicate\n",
    "dataset.duplicated().sum()"
   ]
  },
  {
   "cell_type": "code",
   "execution_count": 22,
   "metadata": {},
   "outputs": [
    {
     "data": {
      "text/plain": [
       "0"
      ]
     },
     "execution_count": 22,
     "metadata": {},
     "output_type": "execute_result"
    }
   ],
   "source": [
    "#Remove Duplicate\n",
    "dfs = dataset.copy().drop_duplicates()\n",
    "dfs.duplicated().sum()"
   ]
  },
  {
   "cell_type": "markdown",
   "metadata": {},
   "source": [
    "# Recommendation system by using Surprise Framework"
   ]
  },
  {
   "cell_type": "code",
   "execution_count": 23,
   "metadata": {},
   "outputs": [],
   "source": [
    "from surprise import Dataset\n",
    "from surprise import Reader\n",
    "from surprise.model_selection import train_test_split\n",
    "from surprise import KNNBasic\n",
    "from surprise import accuracy\n",
    "from surprise import SVD\n",
    "from surprise import NMF\n",
    "# Define the Reader\n",
    "reader = Reader(rating_scale=(1, 5))\n",
    "\n",
    "# Load the data from the DataFrame\n",
    "data = Dataset.load_from_df(dfs, reader)"
   ]
  },
  {
   "cell_type": "code",
   "execution_count": 24,
   "metadata": {},
   "outputs": [],
   "source": [
    "# Split the data into train and test sets\n",
    "trainset, testset = train_test_split(data, test_size=0.25)"
   ]
  },
  {
   "cell_type": "code",
   "execution_count": 25,
   "metadata": {},
   "outputs": [],
   "source": [
    "# SVD algorithm\n",
    "algo_svd = SVD()\n",
    "prediction_mf = algo_svd.fit(trainset).test(testset)"
   ]
  },
  {
   "cell_type": "code",
   "execution_count": 26,
   "metadata": {},
   "outputs": [
    {
     "name": "stdout",
     "output_type": "stream",
     "text": [
      "MAE:  0.4557\n",
      "RMSE: 0.5374\n"
     ]
    },
    {
     "data": {
      "text/plain": [
       "0.5373912180122187"
      ]
     },
     "execution_count": 26,
     "metadata": {},
     "output_type": "execute_result"
    }
   ],
   "source": [
    "accuracy.mae(prediction_mf)\n",
    "accuracy.rmse(prediction_mf)"
   ]
  },
  {
   "cell_type": "code",
   "execution_count": 27,
   "metadata": {},
   "outputs": [
    {
     "name": "stdout",
     "output_type": "stream",
     "text": [
      "Computing the cosine similarity matrix...\n",
      "Done computing similarity matrix.\n",
      "MAE:  0.5564\n",
      "RMSE: 0.6632\n"
     ]
    },
    {
     "data": {
      "text/plain": [
       "0.6632113096333665"
      ]
     },
     "execution_count": 27,
     "metadata": {},
     "output_type": "execute_result"
    }
   ],
   "source": [
    "# KNNBasic\n",
    "sim_options = {\n",
    "    'name': 'cosine',\n",
    "    'user_based': False\n",
    "}\n",
    "algo = KNNBasic(sim_options=sim_options)\n",
    "# Train the algorithm on the training set\n",
    "algo.fit(trainset)\n",
    "# Make predictions on the test set\n",
    "predictions = algo.test(testset)\n",
    "# Evaluate the accuracy of the model\n",
    "accuracy.mae(predictions)\n",
    "accuracy.rmse(predictions)"
   ]
  },
  {
   "cell_type": "code",
   "execution_count": 28,
   "metadata": {},
   "outputs": [],
   "source": [
    "#NMF Algorithm\n",
    "nmf = NMF(n_epochs=25)\n",
    "prediction_nmf = nmf.fit(trainset).test(testset)"
   ]
  },
  {
   "cell_type": "code",
   "execution_count": 29,
   "metadata": {},
   "outputs": [
    {
     "name": "stdout",
     "output_type": "stream",
     "text": [
      "MAE:  0.4313\n",
      "RMSE: 0.5488\n"
     ]
    },
    {
     "data": {
      "text/plain": [
       "0.5488004128603998"
      ]
     },
     "execution_count": 29,
     "metadata": {},
     "output_type": "execute_result"
    }
   ],
   "source": [
    "accuracy.mae(prediction_nmf)\n",
    "accuracy.rmse(prediction_nmf)"
   ]
  },
  {
   "cell_type": "code",
   "execution_count": 30,
   "metadata": {},
   "outputs": [],
   "source": [
    "from collections import defaultdict\n",
    "top_n = defaultdict(list)\n",
    "for uid, iid, true_r, est, _ in prediction_nmf:\n",
    "  top_n[uid].append((iid, est))"
   ]
  },
  {
   "cell_type": "code",
   "execution_count": 31,
   "metadata": {},
   "outputs": [],
   "source": [
    "k = 5\n",
    "for uid, user_ratings in top_n.items():\n",
    "  user_ratings.sort(key=lambda x: x[1], reverse=True)\n",
    "  top_n[uid] = user_ratings[:k]"
   ]
  },
  {
   "cell_type": "code",
   "execution_count": 32,
   "metadata": {},
   "outputs": [
    {
     "name": "stdout",
     "output_type": "stream",
     "text": [
      "Test Recommendations\n",
      "--------------------------------------------------------------------------------\n",
      "UserId 9\n",
      "items: [5787, 4090, 4475, 6692, 2925]\n",
      "UserId 20\n",
      "items: [4090, 7279, 5929, 5929, 5684]\n",
      "UserId 28\n",
      "items: [4848, 4302, 7279, 8451, 5929]\n",
      "UserId 18\n",
      "items: [4090, 9036, 5842, 6692, 5846]\n",
      "UserId 4\n",
      "items: [2064, 5684, 6842, 6927, 1242]\n",
      "UserId 25\n",
      "items: [3986, 5334, 3522, 5679, 7551]\n",
      "UserId 1\n",
      "items: [9941, 2329, 3781, 1175, 3041]\n",
      "UserId 29\n",
      "items: [4302, 5146, 4138, 4405, 6772]\n",
      "UserId 22\n",
      "items: [5222, 2260, 5950, 5679, 3698]\n",
      "UserId 10\n",
      "items: [1096, 9748, 2191, 4803, 1865]\n"
     ]
    }
   ],
   "source": [
    "print(\"Test Recommendations\")\n",
    "print(\"-\" * 80)\n",
    "for uid, user_ratings in list(top_n.items())[:10]:\n",
    "  items = [iid for (iid, _) in user_ratings]\n",
    "  print(f\"UserId {uid}\\nitems: {items}\")"
   ]
  },
  {
   "cell_type": "code",
   "execution_count": 33,
   "metadata": {},
   "outputs": [],
   "source": [
    "data = data = [(uid, iid, est) for uid, iid, est, *_ in prediction_nmf]\n",
    "iju = pd.DataFrame(data, columns=['user_id', 'item_id', 'estimated_rating'])"
   ]
  },
  {
   "cell_type": "code",
   "execution_count": 34,
   "metadata": {},
   "outputs": [],
   "source": [
    "# Sort the DataFrame by user_id and estimated_rating\n",
    "df_sorted = iju.sort_values(['user_id', 'estimated_rating'], ascending=[True, False])\n",
    "# Select the top 5 recommendations for each user\n",
    "top_5_recommendations = df_sorted.groupby('user_id').head(5)"
   ]
  },
  {
   "cell_type": "code",
   "execution_count": 35,
   "metadata": {},
   "outputs": [
    {
     "data": {
      "text/html": [
       "<div>\n",
       "<style scoped>\n",
       "    .dataframe tbody tr th:only-of-type {\n",
       "        vertical-align: middle;\n",
       "    }\n",
       "\n",
       "    .dataframe tbody tr th {\n",
       "        vertical-align: top;\n",
       "    }\n",
       "\n",
       "    .dataframe thead th {\n",
       "        text-align: right;\n",
       "    }\n",
       "</style>\n",
       "<table border=\"1\" class=\"dataframe\">\n",
       "  <thead>\n",
       "    <tr style=\"text-align: right;\">\n",
       "      <th></th>\n",
       "      <th>user_id</th>\n",
       "      <th>item_id</th>\n",
       "      <th>estimated_rating</th>\n",
       "    </tr>\n",
       "  </thead>\n",
       "  <tbody>\n",
       "    <tr>\n",
       "      <th>149</th>\n",
       "      <td>1</td>\n",
       "      <td>6501</td>\n",
       "      <td>4.9</td>\n",
       "    </tr>\n",
       "    <tr>\n",
       "      <th>226</th>\n",
       "      <td>1</td>\n",
       "      <td>9941</td>\n",
       "      <td>4.9</td>\n",
       "    </tr>\n",
       "    <tr>\n",
       "      <th>122</th>\n",
       "      <td>1</td>\n",
       "      <td>2329</td>\n",
       "      <td>4.7</td>\n",
       "    </tr>\n",
       "    <tr>\n",
       "      <th>213</th>\n",
       "      <td>1</td>\n",
       "      <td>4011</td>\n",
       "      <td>4.5</td>\n",
       "    </tr>\n",
       "    <tr>\n",
       "      <th>223</th>\n",
       "      <td>1</td>\n",
       "      <td>3522</td>\n",
       "      <td>4.4</td>\n",
       "    </tr>\n",
       "  </tbody>\n",
       "</table>\n",
       "</div>"
      ],
      "text/plain": [
       "     user_id  item_id  estimated_rating\n",
       "149        1     6501               4.9\n",
       "226        1     9941               4.9\n",
       "122        1     2329               4.7\n",
       "213        1     4011               4.5\n",
       "223        1     3522               4.4"
      ]
     },
     "execution_count": 35,
     "metadata": {},
     "output_type": "execute_result"
    }
   ],
   "source": [
    "top_5_recommendations[top_5_recommendations.user_id==1]"
   ]
  },
  {
   "cell_type": "code",
   "execution_count": 36,
   "metadata": {},
   "outputs": [],
   "source": [
    "# Save the DataFrame to an Excel file\n",
    "top_5_recommendations.to_excel('recommendations.xlsx', index=False)"
   ]
  },
  {
   "cell_type": "markdown",
   "metadata": {},
   "source": [
    "# Predictive analysis"
   ]
  },
  {
   "cell_type": "code",
   "execution_count": 37,
   "metadata": {},
   "outputs": [
    {
     "data": {
      "text/html": [
       "<div>\n",
       "<style scoped>\n",
       "    .dataframe tbody tr th:only-of-type {\n",
       "        vertical-align: middle;\n",
       "    }\n",
       "\n",
       "    .dataframe tbody tr th {\n",
       "        vertical-align: top;\n",
       "    }\n",
       "\n",
       "    .dataframe thead th {\n",
       "        text-align: right;\n",
       "    }\n",
       "</style>\n",
       "<table border=\"1\" class=\"dataframe\">\n",
       "  <thead>\n",
       "    <tr style=\"text-align: right;\">\n",
       "      <th></th>\n",
       "      <th>customer_id</th>\n",
       "      <th>product_id</th>\n",
       "      <th>purchase_date</th>\n",
       "      <th>page_views</th>\n",
       "      <th>time_spent</th>\n",
       "      <th>category</th>\n",
       "      <th>price</th>\n",
       "      <th>ratings</th>\n",
       "    </tr>\n",
       "  </thead>\n",
       "  <tbody>\n",
       "    <tr>\n",
       "      <th>0</th>\n",
       "      <td>1</td>\n",
       "      <td>4681</td>\n",
       "      <td>2023-09-07</td>\n",
       "      <td>17</td>\n",
       "      <td>192</td>\n",
       "      <td>Home &amp; Kitchen</td>\n",
       "      <td>628</td>\n",
       "      <td>4.7</td>\n",
       "    </tr>\n",
       "    <tr>\n",
       "      <th>1</th>\n",
       "      <td>29</td>\n",
       "      <td>4681</td>\n",
       "      <td>2023-07-21</td>\n",
       "      <td>13</td>\n",
       "      <td>204</td>\n",
       "      <td>Home &amp; Kitchen</td>\n",
       "      <td>628</td>\n",
       "      <td>4.7</td>\n",
       "    </tr>\n",
       "    <tr>\n",
       "      <th>2</th>\n",
       "      <td>1</td>\n",
       "      <td>3781</td>\n",
       "      <td>2023-04-17</td>\n",
       "      <td>17</td>\n",
       "      <td>192</td>\n",
       "      <td>Home &amp; Kitchen</td>\n",
       "      <td>812</td>\n",
       "      <td>4.2</td>\n",
       "    </tr>\n",
       "    <tr>\n",
       "      <th>3</th>\n",
       "      <td>9</td>\n",
       "      <td>3781</td>\n",
       "      <td>2023-12-04</td>\n",
       "      <td>4</td>\n",
       "      <td>252</td>\n",
       "      <td>Home &amp; Kitchen</td>\n",
       "      <td>812</td>\n",
       "      <td>4.2</td>\n",
       "    </tr>\n",
       "    <tr>\n",
       "      <th>4</th>\n",
       "      <td>19</td>\n",
       "      <td>3781</td>\n",
       "      <td>2023-09-03</td>\n",
       "      <td>9</td>\n",
       "      <td>138</td>\n",
       "      <td>Home &amp; Kitchen</td>\n",
       "      <td>812</td>\n",
       "      <td>4.2</td>\n",
       "    </tr>\n",
       "  </tbody>\n",
       "</table>\n",
       "</div>"
      ],
      "text/plain": [
       "   customer_id  product_id purchase_date  page_views  time_spent  \\\n",
       "0            1        4681    2023-09-07          17         192   \n",
       "1           29        4681    2023-07-21          13         204   \n",
       "2            1        3781    2023-04-17          17         192   \n",
       "3            9        3781    2023-12-04           4         252   \n",
       "4           19        3781    2023-09-03           9         138   \n",
       "\n",
       "         category  price  ratings  \n",
       "0  Home & Kitchen    628      4.7  \n",
       "1  Home & Kitchen    628      4.7  \n",
       "2  Home & Kitchen    812      4.2  \n",
       "3  Home & Kitchen    812      4.2  \n",
       "4  Home & Kitchen    812      4.2  "
      ]
     },
     "execution_count": 37,
     "metadata": {},
     "output_type": "execute_result"
    }
   ],
   "source": [
    "#Data Join looks like\n",
    "datalengkap.head()"
   ]
  },
  {
   "cell_type": "code",
   "execution_count": 38,
   "metadata": {},
   "outputs": [],
   "source": [
    "#Total product bought by customer\n",
    "databought = pd.DataFrame(data_purchase.groupby('customer_id').size()).reset_index()\n",
    "databought.columns = ['customer_id', 'productsold']"
   ]
  },
  {
   "cell_type": "code",
   "execution_count": 64,
   "metadata": {},
   "outputs": [
    {
     "name": "stdout",
     "output_type": "stream",
     "text": [
      "Number of rows in the total set: 1602\n",
      "Number of rows in the training set: 1441\n",
      "Number of rows in the test set: 161\n"
     ]
    }
   ],
   "source": [
    "#Set variable input & target and define proportion between training data and testing data\n",
    "from sklearn.model_selection import train_test_split, GridSearchCV\n",
    "X= datalengkap[['page_views','time_spent','price','ratings']]\n",
    "Y= datalengkap.iloc[:,1]   \n",
    "X_train, X_test, y_train, y_test = train_test_split(X,Y, test_size = 0.1, shuffle=True,random_state=64)\n",
    "# X_train, X_test, y_train, y_test = train_test_split(X,Y, test_size = 0.1, shuffle=True, random_state=128)\n",
    "\n",
    "print('Number of rows in the total set: {}'.format(datalengkap.shape[0]))\n",
    "print('Number of rows in the training set: {}'.format(len(X_train)))\n",
    "print('Number of rows in the test set: {}'.format(len(X_test)))"
   ]
  },
  {
   "cell_type": "code",
   "execution_count": 40,
   "metadata": {},
   "outputs": [],
   "source": [
    "from sklearn.metrics import f1_score, accuracy_score, precision_score, recall_score, make_scorer\n",
    "def pipeline(learner_list, X_train, y_train, X_test, y_test): \n",
    "    '''\n",
    "    inputs:\n",
    "       - learner: the learning algorithm to be trained and predicted on\n",
    "       - X_train: features training set\n",
    "       - y_train: income training set\n",
    "       - X_test: features testing set\n",
    "       - y_test: income testing set\n",
    "    '''\n",
    "    \n",
    "    # Get length of Training Data:\n",
    "    size = len(y_train)\n",
    "    \n",
    "    results = {}\n",
    "    final_results = []\n",
    "    \n",
    "    for learner in learner_list:\n",
    "        \n",
    "        # Store the learner name:\n",
    "        results['Algorithm'] = learner.__class__.__name__\n",
    "\n",
    "        # Fit the learner:\n",
    "        start = time() # Get start time\n",
    "        print(\"Training {}\".format(learner.__class__.__name__))\n",
    "        learner = learner.fit(X_train, y_train)\n",
    "        end = time() # Get end time\n",
    "\n",
    "        # Store the training time\n",
    "        results['Training Time'] = end - start\n",
    "\n",
    "        start = time() # Get start time\n",
    "        predictions_test = learner.predict(X_test)\n",
    "        predictions_train = learner.predict(X_train)\n",
    "        end = time() # Get end time\n",
    "\n",
    "        # Store the prediction time\n",
    "        results['Prediction Time'] = end - start\n",
    "\n",
    "        # Compute the Accuracy on Test Set\n",
    "        results['Accuracy: Test'] = accuracy_score(y_test, predictions_test)\n",
    "\n",
    "        # Compute the Accuracy on Training Set\n",
    "        results['Accuracy: Train'] = accuracy_score(y_train, predictions_train)\n",
    "\n",
    "        # Compute the F1 Score on Test Set\n",
    "        results['F1 Score: Test'] = f1_score(y_test, predictions_test,average='macro')\n",
    "\n",
    "        # Compute the F1 Score on Training Set\n",
    "        results['F1 Score: Train'] = f1_score(y_train, predictions_train,average='macro')\n",
    "\n",
    "        # Success\n",
    "        print(\"Training {} finished in {:.2f} sec\".format(learner.__class__.__name__, results['Training Time']))\n",
    "        print('----------------------------------------------------')\n",
    "        \n",
    "        final_results.append(results.copy())\n",
    "    # Return a dataframe of the results\n",
    "    return final_results"
   ]
  },
  {
   "cell_type": "code",
   "execution_count": 41,
   "metadata": {},
   "outputs": [],
   "source": [
    "# make a list of models\n",
    "from sklearn.neighbors import KNeighborsClassifier\n",
    "from sklearn.tree import DecisionTreeClassifier\n",
    "from sklearn.naive_bayes import GaussianNB\n",
    "from sklearn.ensemble import RandomForestClassifier, GradientBoostingClassifier\n",
    "from time import time\n",
    "models = [DecisionTreeClassifier(), \n",
    "          GaussianNB(), \n",
    "          KNeighborsClassifier(),RandomForestClassifier()]"
   ]
  },
  {
   "cell_type": "code",
   "execution_count": 65,
   "metadata": {},
   "outputs": [
    {
     "name": "stdout",
     "output_type": "stream",
     "text": [
      "Training DecisionTreeClassifier\n",
      "Training DecisionTreeClassifier finished in 0.03 sec\n",
      "----------------------------------------------------\n",
      "Training GaussianNB\n",
      "Training GaussianNB finished in 0.02 sec\n",
      "----------------------------------------------------\n",
      "Training KNeighborsClassifier\n",
      "Training KNeighborsClassifier finished in 0.00 sec\n",
      "----------------------------------------------------\n",
      "Training RandomForestClassifier\n",
      "Training RandomForestClassifier finished in 1.66 sec\n",
      "----------------------------------------------------\n"
     ]
    }
   ],
   "source": [
    "re = pipeline(models, X_train, y_train, X_test, y_test)\n",
    "results = pd.DataFrame(re)\n",
    "results = results.reindex(columns = ['Algorithm', 'Accuracy: Test', 'F1 Score: Test', 'Prediction Time',\n",
    "                          'Accuracy: Train', 'F1 Score: Train', 'Training Time'])"
   ]
  },
  {
   "cell_type": "code",
   "execution_count": 66,
   "metadata": {},
   "outputs": [
    {
     "data": {
      "text/html": [
       "<div>\n",
       "<style scoped>\n",
       "    .dataframe tbody tr th:only-of-type {\n",
       "        vertical-align: middle;\n",
       "    }\n",
       "\n",
       "    .dataframe tbody tr th {\n",
       "        vertical-align: top;\n",
       "    }\n",
       "\n",
       "    .dataframe thead th {\n",
       "        text-align: right;\n",
       "    }\n",
       "</style>\n",
       "<table border=\"1\" class=\"dataframe\">\n",
       "  <thead>\n",
       "    <tr style=\"text-align: right;\">\n",
       "      <th></th>\n",
       "      <th>Algorithm</th>\n",
       "      <th>Accuracy: Test</th>\n",
       "      <th>F1 Score: Test</th>\n",
       "      <th>Prediction Time</th>\n",
       "      <th>Accuracy: Train</th>\n",
       "      <th>F1 Score: Train</th>\n",
       "      <th>Training Time</th>\n",
       "    </tr>\n",
       "  </thead>\n",
       "  <tbody>\n",
       "    <tr>\n",
       "      <th>0</th>\n",
       "      <td>DecisionTreeClassifier</td>\n",
       "      <td>0.826087</td>\n",
       "      <td>0.746711</td>\n",
       "      <td>0.006317</td>\n",
       "      <td>0.999306</td>\n",
       "      <td>0.999522</td>\n",
       "      <td>0.027710</td>\n",
       "    </tr>\n",
       "    <tr>\n",
       "      <th>1</th>\n",
       "      <td>RandomForestClassifier</td>\n",
       "      <td>0.590062</td>\n",
       "      <td>0.423297</td>\n",
       "      <td>0.510333</td>\n",
       "      <td>0.999306</td>\n",
       "      <td>0.999522</td>\n",
       "      <td>1.663453</td>\n",
       "    </tr>\n",
       "    <tr>\n",
       "      <th>2</th>\n",
       "      <td>GaussianNB</td>\n",
       "      <td>0.540373</td>\n",
       "      <td>0.524620</td>\n",
       "      <td>0.052942</td>\n",
       "      <td>0.943789</td>\n",
       "      <td>0.979361</td>\n",
       "      <td>0.024782</td>\n",
       "    </tr>\n",
       "    <tr>\n",
       "      <th>3</th>\n",
       "      <td>KNeighborsClassifier</td>\n",
       "      <td>0.062112</td>\n",
       "      <td>0.026285</td>\n",
       "      <td>0.047930</td>\n",
       "      <td>0.306037</td>\n",
       "      <td>0.170550</td>\n",
       "      <td>0.002689</td>\n",
       "    </tr>\n",
       "  </tbody>\n",
       "</table>\n",
       "</div>"
      ],
      "text/plain": [
       "                Algorithm  Accuracy: Test  F1 Score: Test  Prediction Time  \\\n",
       "0  DecisionTreeClassifier        0.826087        0.746711         0.006317   \n",
       "1  RandomForestClassifier        0.590062        0.423297         0.510333   \n",
       "2              GaussianNB        0.540373        0.524620         0.052942   \n",
       "3    KNeighborsClassifier        0.062112        0.026285         0.047930   \n",
       "\n",
       "   Accuracy: Train  F1 Score: Train  Training Time  \n",
       "0         0.999306         0.999522       0.027710  \n",
       "1         0.999306         0.999522       1.663453  \n",
       "2         0.943789         0.979361       0.024782  \n",
       "3         0.306037         0.170550       0.002689  "
      ]
     },
     "execution_count": 66,
     "metadata": {},
     "output_type": "execute_result"
    }
   ],
   "source": [
    "results = results.reindex(columns = ['Algorithm', 'Accuracy: Test', 'F1 Score: Test', 'Prediction Time',\n",
    "                          'Accuracy: Train', 'F1 Score: Train', 'Training Time'])\n",
    "\n",
    "results.sort_values(by = 'Accuracy: Test', inplace = True, ascending = False)\n",
    "results.reset_index(drop = True)"
   ]
  },
  {
   "cell_type": "code",
   "execution_count": 67,
   "metadata": {},
   "outputs": [],
   "source": [
    "# store the best metric scores\n",
    "best_acc = results[results['Accuracy: Test'] == results['Accuracy: Test'].max()]\n",
    "best_f1 = results[results['F1 Score: Test'] == results['F1 Score: Test'].max()]"
   ]
  },
  {
   "cell_type": "code",
   "execution_count": 68,
   "metadata": {},
   "outputs": [
    {
     "data": {
      "image/png": "[encoded data removed]",
      "text/plain": [
       "<Figure size 504x360 with 1 Axes>"
      ]
     },
     "metadata": {},
     "output_type": "display_data"
    }
   ],
   "source": [
    "sns.set_style('darkgrid')\n",
    "plt.figure(figsize = (7, 5))\n",
    "\n",
    "barWidth = 0.3\n",
    " \n",
    "# set height of bar\n",
    "bars1 = results['Accuracy: Test']\n",
    "bars2 = results['F1 Score: Test']\n",
    "\n",
    " \n",
    "# Set position of bar on X axis\n",
    "r1 = np.arange(len(bars1))\n",
    "r2 = [x + barWidth for x in r1]\n",
    "\n",
    " \n",
    "# Make the plot\n",
    "pal = sns.color_palette()\n",
    "plt.bar(r1, bars1, color= pal[7], width=barWidth, edgecolor='white', label='Test Accuracy')\n",
    "plt.bar(r2, bars2, color= pal[2], width=barWidth, edgecolor='white', label='F1 Score')\n",
    "\n",
    " \n",
    "# Add xticks on the middle of the group bars\n",
    "plt.xlabel('Algorithm', fontweight='bold', fontsize = 13)\n",
    "plt.ylabel('Score', fontweight = 'bold', fontsize = 13)\n",
    "plt.xticks([r + barWidth for r in range(len(bars1))], results['Algorithm'], rotation = 15, fontsize = 11)\n",
    " \n",
    "# Create legend & Show graphic\n",
    "plt.legend(fontsize = 13)\n",
    "\n",
    "textstr = '\\n'.join(['Best Accuracy: {:.3f} - {}'.format(best_acc['Accuracy: Test'].values[0], best_acc['Algorithm'].values[0]), \n",
    "                     'Best F1 Score: {:.3f} - {}'.format(best_f1['F1 Score: Test'].values[0], best_f1['Algorithm'].values[0])])\n",
    "props = dict(boxstyle='round', facecolor='lightgrey', alpha=0.5)\n",
    "\n",
    "#place a text box\n",
    "plt.text(9.2, 1, textstr, fontsize=14,\n",
    "        verticalalignment='top', bbox=props)\n",
    "\n",
    "plt.title('Classification Summary of Algorithms', fontweight = 'bold', fontsize = 17);"
   ]
  },
  {
   "cell_type": "markdown",
   "metadata": {},
   "source": [
    "Our final model is Decision Tree"
   ]
  },
  {
   "cell_type": "code",
   "execution_count": 69,
   "metadata": {},
   "outputs": [],
   "source": [
    "finalmodel = models[0]"
   ]
  },
  {
   "cell_type": "code",
   "execution_count": 70,
   "metadata": {},
   "outputs": [
    {
     "name": "stdout",
     "output_type": "stream",
     "text": [
      "customer will buy product :  3913\n"
     ]
    },
    {
     "name": "stderr",
     "output_type": "stream",
     "text": [
      "/Users/izzamuna/opt/anaconda3/lib/python3.8/site-packages/sklearn/base.py:409: UserWarning: X does not have valid feature names, but DecisionTreeClassifier was fitted with feature names\n",
      "  warnings.warn(\n"
     ]
    }
   ],
   "source": [
    "#test model\n",
    "input=(28,165,256,4.5) #page_views,time_spent,price,ratings\n",
    "input_as_numpy=np.asarray(input)\n",
    "input_reshaped=input_as_numpy.reshape(1,-1)\n",
    "pre=finalmodel.predict(input_reshaped)\n",
    "print('customer will buy product : ',pre[0])"
   ]
  },
  {
   "cell_type": "code",
   "execution_count": null,
   "metadata": {},
   "outputs": [],
   "source": []
  }
 ],
 "metadata": {
  "kernelspec": {
   "display_name": "Python 3",
   "language": "python",
   "name": "python3"
  },
  "language_info": {
   "codemirror_mode": {
    "name": "ipython",
    "version": 3
   },
   "file_extension": ".py",
   "mimetype": "text/x-python",
   "name": "python",
   "nbconvert_exporter": "python",
   "pygments_lexer": "ipython3",
   "version": "3.8.5"
  }
 },
 "nbformat": 4,
 "nbformat_minor": 4
}
